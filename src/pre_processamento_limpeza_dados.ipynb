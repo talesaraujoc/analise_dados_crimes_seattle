{
 "cells": [
  {
   "cell_type": "code",
   "execution_count": 3,
   "metadata": {},
   "outputs": [],
   "source": [
    "from pathlib import Path\n",
    "import pandas as pd\n",
    "\n",
    "import funcoes"
   ]
  },
  {
   "cell_type": "code",
   "execution_count": 4,
   "metadata": {},
   "outputs": [],
   "source": [
    "parcial_path_absolute = Path.home() / 'OneDrive' / 'Documentos' / 'GitHub'\n",
    "parcial_path_relative = Path('analise_dados_crimes_seattle')\n",
    "full_path = parcial_path_absolute / parcial_path_relative\n",
    "\n",
    "absolute_path_data_raw = full_path / 'data' / 'raw'\n",
    "absolute_path_data_processed = full_path / 'data' / 'processed'\n",
    "\n",
    "path_data = absolute_path_data_raw / 'SPD_Crime_Data__2008-Present_20250311.csv'\n",
    "path_data_info_geo = absolute_path_data_raw / 'SPD_Crime_Data__2008-Present_20250223.csv'"
   ]
  },
  {
   "cell_type": "markdown",
   "metadata": {},
   "source": [
    "Os dados representam atividades de resposta policial em Seattle.\n",
    "Cada linha no conjunto de dados é um registro de um Call for Service (CfS), ou seja, uma chamada registrada pelo Centro de Comunicações da Polícia de Seattle (SPD).\n",
    "As chamadas vêm da comunidade e podem ser desde emergências ativas até pedidos de resolução de problemas.\n",
    "Os policiais também podem registrar chamadas com base em suas próprias observações no campo."
   ]
  },
  {
   "cell_type": "code",
   "execution_count": 5,
   "metadata": {},
   "outputs": [],
   "source": [
    "df = pd.read_csv(path_data, sep=',')\n",
    "dff = df.copy() #preservando o bruto"
   ]
  },
  {
   "cell_type": "code",
   "execution_count": 6,
   "metadata": {},
   "outputs": [],
   "source": [
    "dff = funcoes.colunas_lower(dff)"
   ]
  },
  {
   "cell_type": "code",
   "execution_count": 7,
   "metadata": {},
   "outputs": [],
   "source": [
    "df_info_geografica = pd.read_csv(path_data_info_geo, sep=',')\n",
    "dff_to_merge_infos = df_info_geografica.copy() #preservando o bruto"
   ]
  },
  {
   "cell_type": "code",
   "execution_count": 8,
   "metadata": {},
   "outputs": [],
   "source": [
    "dff_to_merge_infos = funcoes.colunas_lower(dff_to_merge_infos)\n",
    "dff_to_merge_infos = dff_to_merge_infos[['offense id', 'longitude', 'latitude']]"
   ]
  },
  {
   "cell_type": "markdown",
   "metadata": {},
   "source": [
    "Limpeza de dados"
   ]
  },
  {
   "cell_type": "code",
   "execution_count": 9,
   "metadata": {},
   "outputs": [
    {
     "name": "stdout",
     "output_type": "stream",
     "text": [
      "<class 'pandas.core.frame.DataFrame'>\n",
      "RangeIndex: 1438644 entries, 0 to 1438643\n",
      "Data columns (total 19 columns):\n",
      " #   Column                          Non-Null Count    Dtype  \n",
      "---  ------                          --------------    -----  \n",
      " 0   report number                   1438644 non-null  object \n",
      " 1   report datetime                 1438644 non-null  object \n",
      " 2   offense id                      1438644 non-null  int64  \n",
      " 3   offense date                    1438644 non-null  object \n",
      " 4   nibrs group ab                  1438644 non-null  object \n",
      " 5   nibrs crime against category    1438644 non-null  object \n",
      " 6   offense sub category            1438644 non-null  object \n",
      " 7   shooting type group             1438644 non-null  object \n",
      " 8   block address                   0 non-null        float64\n",
      " 9   latitude                        0 non-null        float64\n",
      " 10  longitude                       0 non-null        float64\n",
      " 11  beat                            1438644 non-null  object \n",
      " 12  precinct                        1438644 non-null  object \n",
      " 13  sector                          1438644 non-null  object \n",
      " 14  neighborhood                    1438644 non-null  object \n",
      " 15  reporting area                  0 non-null        float64\n",
      " 16  offense category                1438644 non-null  object \n",
      " 17  nibrs offense code description  1438644 non-null  object \n",
      " 18  nibrs_offense_code              1438644 non-null  object \n",
      "dtypes: float64(4), int64(1), object(14)\n",
      "memory usage: 208.5+ MB\n"
     ]
    }
   ],
   "source": [
    "dff.info()"
   ]
  },
  {
   "cell_type": "code",
   "execution_count": 10,
   "metadata": {},
   "outputs": [
    {
     "data": {
      "text/html": [
       "<div>\n",
       "<style scoped>\n",
       "    .dataframe tbody tr th:only-of-type {\n",
       "        vertical-align: middle;\n",
       "    }\n",
       "\n",
       "    .dataframe tbody tr th {\n",
       "        vertical-align: top;\n",
       "    }\n",
       "\n",
       "    .dataframe thead th {\n",
       "        text-align: right;\n",
       "    }\n",
       "</style>\n",
       "<table border=\"1\" class=\"dataframe\">\n",
       "  <thead>\n",
       "    <tr style=\"text-align: right;\">\n",
       "      <th></th>\n",
       "      <th>report number</th>\n",
       "      <th>report datetime</th>\n",
       "      <th>offense id</th>\n",
       "      <th>offense date</th>\n",
       "      <th>nibrs group ab</th>\n",
       "      <th>nibrs crime against category</th>\n",
       "      <th>offense sub category</th>\n",
       "      <th>shooting type group</th>\n",
       "      <th>block address</th>\n",
       "      <th>latitude</th>\n",
       "      <th>longitude</th>\n",
       "      <th>beat</th>\n",
       "      <th>precinct</th>\n",
       "      <th>sector</th>\n",
       "      <th>neighborhood</th>\n",
       "      <th>reporting area</th>\n",
       "      <th>offense category</th>\n",
       "      <th>nibrs offense code description</th>\n",
       "      <th>nibrs_offense_code</th>\n",
       "    </tr>\n",
       "  </thead>\n",
       "  <tbody>\n",
       "    <tr>\n",
       "      <th>0</th>\n",
       "      <td>2014-331666</td>\n",
       "      <td>10/04/2014 12:26:00 AM</td>\n",
       "      <td>7685336839</td>\n",
       "      <td>10/04/2014 12:26:00 AM</td>\n",
       "      <td>A</td>\n",
       "      <td>PERSON</td>\n",
       "      <td>ASSAULT OFFENSES</td>\n",
       "      <td>-</td>\n",
       "      <td>NaN</td>\n",
       "      <td>NaN</td>\n",
       "      <td>NaN</td>\n",
       "      <td>N3</td>\n",
       "      <td>North</td>\n",
       "      <td>N</td>\n",
       "      <td>-</td>\n",
       "      <td>NaN</td>\n",
       "      <td>ALL OTHER</td>\n",
       "      <td>Simple Assault</td>\n",
       "      <td>13B</td>\n",
       "    </tr>\n",
       "    <tr>\n",
       "      <th>1</th>\n",
       "      <td>2009-095116</td>\n",
       "      <td>03/20/2009 01:58:00 AM</td>\n",
       "      <td>7665902657</td>\n",
       "      <td>03/20/2009 12:50:00 AM</td>\n",
       "      <td>A</td>\n",
       "      <td>PROPERTY</td>\n",
       "      <td>LARCENY-THEFT</td>\n",
       "      <td>-</td>\n",
       "      <td>NaN</td>\n",
       "      <td>NaN</td>\n",
       "      <td>NaN</td>\n",
       "      <td>J2</td>\n",
       "      <td>North</td>\n",
       "      <td>J</td>\n",
       "      <td>-</td>\n",
       "      <td>NaN</td>\n",
       "      <td>PROPERTY CRIME</td>\n",
       "      <td>Theft From Motor Vehicle</td>\n",
       "      <td>23F</td>\n",
       "    </tr>\n",
       "    <tr>\n",
       "      <th>2</th>\n",
       "      <td>2014-272495</td>\n",
       "      <td>08/16/2014 09:08:00 PM</td>\n",
       "      <td>7655103418</td>\n",
       "      <td>08/16/2014 02:00:00 PM</td>\n",
       "      <td>A</td>\n",
       "      <td>PROPERTY</td>\n",
       "      <td>MOTOR VEHICLE THEFT</td>\n",
       "      <td>-</td>\n",
       "      <td>NaN</td>\n",
       "      <td>NaN</td>\n",
       "      <td>NaN</td>\n",
       "      <td>K3</td>\n",
       "      <td>West</td>\n",
       "      <td>K</td>\n",
       "      <td>-</td>\n",
       "      <td>NaN</td>\n",
       "      <td>PROPERTY CRIME</td>\n",
       "      <td>Motor Vehicle Theft</td>\n",
       "      <td>240</td>\n",
       "    </tr>\n",
       "  </tbody>\n",
       "</table>\n",
       "</div>"
      ],
      "text/plain": [
       "  report number         report datetime  offense id            offense date  \\\n",
       "0   2014-331666  10/04/2014 12:26:00 AM  7685336839  10/04/2014 12:26:00 AM   \n",
       "1   2009-095116  03/20/2009 01:58:00 AM  7665902657  03/20/2009 12:50:00 AM   \n",
       "2   2014-272495  08/16/2014 09:08:00 PM  7655103418  08/16/2014 02:00:00 PM   \n",
       "\n",
       "  nibrs group ab nibrs crime against category offense sub category  \\\n",
       "0              A                       PERSON     ASSAULT OFFENSES   \n",
       "1              A                     PROPERTY        LARCENY-THEFT   \n",
       "2              A                     PROPERTY  MOTOR VEHICLE THEFT   \n",
       "\n",
       "  shooting type group  block address  latitude  longitude beat precinct  \\\n",
       "0                   -            NaN       NaN        NaN   N3    North   \n",
       "1                   -            NaN       NaN        NaN   J2    North   \n",
       "2                   -            NaN       NaN        NaN   K3     West   \n",
       "\n",
       "  sector neighborhood  reporting area offense category  \\\n",
       "0      N            -             NaN        ALL OTHER   \n",
       "1      J            -             NaN   PROPERTY CRIME   \n",
       "2      K            -             NaN   PROPERTY CRIME   \n",
       "\n",
       "  nibrs offense code description nibrs_offense_code  \n",
       "0                 Simple Assault                13B  \n",
       "1       Theft From Motor Vehicle                23F  \n",
       "2            Motor Vehicle Theft                240  "
      ]
     },
     "execution_count": 10,
     "metadata": {},
     "output_type": "execute_result"
    }
   ],
   "source": [
    "dff.head(3)"
   ]
  },
  {
   "cell_type": "code",
   "execution_count": 11,
   "metadata": {},
   "outputs": [
    {
     "data": {
      "text/plain": [
       "Index(['report number', 'report datetime', 'offense id', 'offense date',\n",
       "       'nibrs group ab', 'nibrs crime against category',\n",
       "       'offense sub category', 'shooting type group', 'block address',\n",
       "       'latitude', 'longitude', 'beat', 'precinct', 'sector', 'neighborhood',\n",
       "       'reporting area', 'offense category', 'nibrs offense code description',\n",
       "       'nibrs_offense_code'],\n",
       "      dtype='object')"
      ]
     },
     "execution_count": 11,
     "metadata": {},
     "output_type": "execute_result"
    }
   ],
   "source": [
    "dff.columns"
   ]
  },
  {
   "cell_type": "code",
   "execution_count": 12,
   "metadata": {},
   "outputs": [],
   "source": [
    "dff = dff.drop(['block address','latitude', 'longitude', 'neighborhood', 'reporting area'], axis=1)"
   ]
  },
  {
   "cell_type": "code",
   "execution_count": 13,
   "metadata": {},
   "outputs": [],
   "source": [
    "# excluir o que não é considerado crime\n",
    "dff = dff[dff['nibrs crime against category']!='NOT_A_CRIME']"
   ]
  },
  {
   "cell_type": "code",
   "execution_count": 14,
   "metadata": {},
   "outputs": [],
   "source": [
    "dff = pd.merge(dff, dff_to_merge_infos, how='left', on='offense id')"
   ]
  },
  {
   "cell_type": "code",
   "execution_count": 15,
   "metadata": {},
   "outputs": [
    {
     "data": {
      "text/html": [
       "<div>\n",
       "<style scoped>\n",
       "    .dataframe tbody tr th:only-of-type {\n",
       "        vertical-align: middle;\n",
       "    }\n",
       "\n",
       "    .dataframe tbody tr th {\n",
       "        vertical-align: top;\n",
       "    }\n",
       "\n",
       "    .dataframe thead th {\n",
       "        text-align: right;\n",
       "    }\n",
       "</style>\n",
       "<table border=\"1\" class=\"dataframe\">\n",
       "  <thead>\n",
       "    <tr style=\"text-align: right;\">\n",
       "      <th></th>\n",
       "      <th>report number</th>\n",
       "      <th>report datetime</th>\n",
       "      <th>offense id</th>\n",
       "      <th>offense date</th>\n",
       "      <th>nibrs group ab</th>\n",
       "      <th>nibrs crime against category</th>\n",
       "      <th>offense sub category</th>\n",
       "      <th>shooting type group</th>\n",
       "      <th>beat</th>\n",
       "      <th>precinct</th>\n",
       "      <th>sector</th>\n",
       "      <th>offense category</th>\n",
       "      <th>nibrs offense code description</th>\n",
       "      <th>nibrs_offense_code</th>\n",
       "      <th>longitude</th>\n",
       "      <th>latitude</th>\n",
       "    </tr>\n",
       "  </thead>\n",
       "  <tbody>\n",
       "    <tr>\n",
       "      <th>0</th>\n",
       "      <td>2014-331666</td>\n",
       "      <td>10/04/2014 12:26:00 AM</td>\n",
       "      <td>7685336839</td>\n",
       "      <td>10/04/2014 12:26:00 AM</td>\n",
       "      <td>A</td>\n",
       "      <td>PERSON</td>\n",
       "      <td>ASSAULT OFFENSES</td>\n",
       "      <td>-</td>\n",
       "      <td>N3</td>\n",
       "      <td>North</td>\n",
       "      <td>N</td>\n",
       "      <td>ALL OTHER</td>\n",
       "      <td>Simple Assault</td>\n",
       "      <td>13B</td>\n",
       "      <td>-122.344675</td>\n",
       "      <td>47.703422</td>\n",
       "    </tr>\n",
       "    <tr>\n",
       "      <th>1</th>\n",
       "      <td>2009-095116</td>\n",
       "      <td>03/20/2009 01:58:00 AM</td>\n",
       "      <td>7665902657</td>\n",
       "      <td>03/20/2009 12:50:00 AM</td>\n",
       "      <td>A</td>\n",
       "      <td>PROPERTY</td>\n",
       "      <td>LARCENY-THEFT</td>\n",
       "      <td>-</td>\n",
       "      <td>J2</td>\n",
       "      <td>North</td>\n",
       "      <td>J</td>\n",
       "      <td>PROPERTY CRIME</td>\n",
       "      <td>Theft From Motor Vehicle</td>\n",
       "      <td>23F</td>\n",
       "      <td>-122.385404</td>\n",
       "      <td>47.687759</td>\n",
       "    </tr>\n",
       "    <tr>\n",
       "      <th>2</th>\n",
       "      <td>2014-272495</td>\n",
       "      <td>08/16/2014 09:08:00 PM</td>\n",
       "      <td>7655103418</td>\n",
       "      <td>08/16/2014 02:00:00 PM</td>\n",
       "      <td>A</td>\n",
       "      <td>PROPERTY</td>\n",
       "      <td>MOTOR VEHICLE THEFT</td>\n",
       "      <td>-</td>\n",
       "      <td>K3</td>\n",
       "      <td>West</td>\n",
       "      <td>K</td>\n",
       "      <td>PROPERTY CRIME</td>\n",
       "      <td>Motor Vehicle Theft</td>\n",
       "      <td>240</td>\n",
       "      <td>-122.328489</td>\n",
       "      <td>47.602018</td>\n",
       "    </tr>\n",
       "    <tr>\n",
       "      <th>3</th>\n",
       "      <td>2009-333330</td>\n",
       "      <td>09/20/2009 11:37:00 PM</td>\n",
       "      <td>7684768411</td>\n",
       "      <td>09/20/2009 01:00:00 AM</td>\n",
       "      <td>A</td>\n",
       "      <td>PROPERTY</td>\n",
       "      <td>PROPERTY OFFENSES (INCLUDES STOLEN, DESTRUCTION)</td>\n",
       "      <td>-</td>\n",
       "      <td>J2</td>\n",
       "      <td>North</td>\n",
       "      <td>J</td>\n",
       "      <td>ALL OTHER</td>\n",
       "      <td>Destruction/Damage/Vandalism of Property</td>\n",
       "      <td>290</td>\n",
       "      <td>-122.384293</td>\n",
       "      <td>47.678609</td>\n",
       "    </tr>\n",
       "    <tr>\n",
       "      <th>4</th>\n",
       "      <td>2011-380459</td>\n",
       "      <td>11/25/2011 11:26:00 AM</td>\n",
       "      <td>7674046661</td>\n",
       "      <td>11/25/2011 12:30:00 AM</td>\n",
       "      <td>A</td>\n",
       "      <td>PROPERTY</td>\n",
       "      <td>LARCENY-THEFT</td>\n",
       "      <td>-</td>\n",
       "      <td>O3</td>\n",
       "      <td>South</td>\n",
       "      <td>O</td>\n",
       "      <td>PROPERTY CRIME</td>\n",
       "      <td>All Other Larceny</td>\n",
       "      <td>23H</td>\n",
       "      <td>-122.319315</td>\n",
       "      <td>47.548336</td>\n",
       "    </tr>\n",
       "  </tbody>\n",
       "</table>\n",
       "</div>"
      ],
      "text/plain": [
       "  report number         report datetime  offense id            offense date  \\\n",
       "0   2014-331666  10/04/2014 12:26:00 AM  7685336839  10/04/2014 12:26:00 AM   \n",
       "1   2009-095116  03/20/2009 01:58:00 AM  7665902657  03/20/2009 12:50:00 AM   \n",
       "2   2014-272495  08/16/2014 09:08:00 PM  7655103418  08/16/2014 02:00:00 PM   \n",
       "3   2009-333330  09/20/2009 11:37:00 PM  7684768411  09/20/2009 01:00:00 AM   \n",
       "4   2011-380459  11/25/2011 11:26:00 AM  7674046661  11/25/2011 12:30:00 AM   \n",
       "\n",
       "  nibrs group ab nibrs crime against category  \\\n",
       "0              A                       PERSON   \n",
       "1              A                     PROPERTY   \n",
       "2              A                     PROPERTY   \n",
       "3              A                     PROPERTY   \n",
       "4              A                     PROPERTY   \n",
       "\n",
       "                               offense sub category shooting type group beat  \\\n",
       "0                                  ASSAULT OFFENSES                   -   N3   \n",
       "1                                     LARCENY-THEFT                   -   J2   \n",
       "2                               MOTOR VEHICLE THEFT                   -   K3   \n",
       "3  PROPERTY OFFENSES (INCLUDES STOLEN, DESTRUCTION)                   -   J2   \n",
       "4                                     LARCENY-THEFT                   -   O3   \n",
       "\n",
       "  precinct sector offense category            nibrs offense code description  \\\n",
       "0    North      N        ALL OTHER                            Simple Assault   \n",
       "1    North      J   PROPERTY CRIME                  Theft From Motor Vehicle   \n",
       "2     West      K   PROPERTY CRIME                       Motor Vehicle Theft   \n",
       "3    North      J        ALL OTHER  Destruction/Damage/Vandalism of Property   \n",
       "4    South      O   PROPERTY CRIME                         All Other Larceny   \n",
       "\n",
       "  nibrs_offense_code   longitude   latitude  \n",
       "0                13B -122.344675  47.703422  \n",
       "1                23F -122.385404  47.687759  \n",
       "2                240 -122.328489  47.602018  \n",
       "3                290 -122.384293  47.678609  \n",
       "4                23H -122.319315  47.548336  "
      ]
     },
     "execution_count": 15,
     "metadata": {},
     "output_type": "execute_result"
    }
   ],
   "source": [
    "dff.head()"
   ]
  },
  {
   "cell_type": "code",
   "execution_count": 17,
   "metadata": {},
   "outputs": [
    {
     "name": "stderr",
     "output_type": "stream",
     "text": [
      "c:\\Users\\tales\\OneDrive\\Documentos\\GitHub\\analise_dados_crimes_seattle\\src\\funcoes\\__init__.py:8: UserWarning: Could not infer format, so each element will be parsed individually, falling back to `dateutil`. To ensure parsing is consistent and as-expected, please specify a format.\n",
      "  return pd.to_datetime(data_frame_target[coluna_target])\n",
      "c:\\Users\\tales\\OneDrive\\Documentos\\GitHub\\analise_dados_crimes_seattle\\src\\funcoes\\__init__.py:8: UserWarning: Could not infer format, so each element will be parsed individually, falling back to `dateutil`. To ensure parsing is consistent and as-expected, please specify a format.\n",
      "  return pd.to_datetime(data_frame_target[coluna_target])\n"
     ]
    }
   ],
   "source": [
    "# 'report datetime'\n",
    "dff['report datetime'] = funcoes.transformando_colunas_em_datetime(dff, 'report datetime')\n",
    "\n",
    "# 'offense date\n",
    "dff['offense date'] = funcoes.transformando_colunas_em_datetime(dff, 'offense date')"
   ]
  },
  {
   "cell_type": "code",
   "execution_count": 20,
   "metadata": {},
   "outputs": [],
   "source": [
    "path_output_data_cleaned = absolute_path_data_processed / 'SPD_Crime_data_cleaned.csv'\n",
    "dff.to_csv(path_output_data_cleaned, index=False)"
   ]
  },
  {
   "cell_type": "code",
   "execution_count": 21,
   "metadata": {},
   "outputs": [
    {
     "name": "stderr",
     "output_type": "stream",
     "text": [
      "c:\\Users\\tales\\OneDrive\\Documentos\\GitHub\\analise_dados_crimes_seattle\\venv_crimes_seatle\\Lib\\site-packages\\numpy\\_core\\fromnumeric.py:57: FutureWarning: 'DataFrame.swapaxes' is deprecated and will be removed in a future version. Please use 'DataFrame.transpose' instead.\n",
      "  return bound(*args, **kwds)\n"
     ]
    }
   ],
   "source": [
    "import numpy as np\n",
    "\n",
    "n_partes = 3\n",
    "dfs_divididos = np.array_split(dff, n_partes)\n",
    "\n",
    "for i, parte in enumerate(dfs_divididos):\n",
    "    parte.to_csv((absolute_path_data_processed / f'split_SPD_Crime_data_cleaned_{i+1}.csv'), index=False)\n"
   ]
  }
 ],
 "metadata": {
  "kernelspec": {
   "display_name": "venv_crimes_seatle",
   "language": "python",
   "name": "python3"
  },
  "language_info": {
   "codemirror_mode": {
    "name": "ipython",
    "version": 3
   },
   "file_extension": ".py",
   "mimetype": "text/x-python",
   "name": "python",
   "nbconvert_exporter": "python",
   "pygments_lexer": "ipython3",
   "version": "3.12.5"
  }
 },
 "nbformat": 4,
 "nbformat_minor": 2
}
